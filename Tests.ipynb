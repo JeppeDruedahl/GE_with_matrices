{
 "cells": [
  {
   "cell_type": "code",
   "execution_count": null,
   "metadata": {},
   "outputs": [],
   "source": [
    "#Q\n",
    "\n",
    "from scipy.linalg import block_diag\n",
    "Ne=5\n",
    "Na=500\n",
    "lis = []\n",
    "for e in range(Ne):\n",
    "    q = np.zeros((Na,Na))\n",
    "    for k in range(Na):\n",
    "        opt = sol.a[e,k]\n",
    "        if opt > np.max(par.a_grid):\n",
    "            q[k] = 0\n",
    "\n",
    "        elif opt < np.min(par.a_grid):\n",
    "            q[k] = 0\n",
    "\n",
    "        else:   \n",
    "            a3 = np.min(np.nonzero(opt<=par.a_grid))\n",
    "            a4 = np.max(np.nonzero(opt>=par.a_grid))\n",
    "            q[k,a4] = (par.a_grid[a3]-opt)/(par.a_grid[a3]-par.a_grid[a3-1]) #Har byttet om på opt og a_grid\n",
    "            q[k,a3] = (opt-par.a_grid[a4])/(par.a_grid[a4+1]-par.a_grid[a4])\n",
    "            \n",
    "    for k in range(Na):\n",
    "        if np.all(q[k,:] ==0):\n",
    "            q[k,0] = 1\n",
    "    lis.append(q)\n",
    "Q = block_diag(lis[0],lis[1],lis[2],lis[3],lis[4])\n",
    "\n",
    "#Det virker som om at lis i hvert fald er rigtige, selvom 'if'-argumenter ikke er 100p korrekte\n",
    "#Q virker også korrekt\n",
    "\n",
    "#Jeg har byttet om på a3,a4. Tjek om det er korrekt!!!!!!!\n",
    "\n",
    "#Pi\n",
    "Pit = np.kron(par.e_trans, np.identity(Na)) #Muligvis skal den transpose\n"
   ]
  },
  {
   "cell_type": "code",
   "execution_count": null,
   "metadata": {},
   "outputs": [],
   "source": [
    "#Regner v_vec_next ud i hånden\n",
    "tjek = u_vec[1]+par.beta*(lis[0][1,0]*par.e_trans[0,0]*v_vec[0]+lis[0][1,1]*par.e_trans[0,0]*v_vec[1]+\n",
    "                         lis[0][1,0]*par.e_trans[0,1]*v_vec[500]+lis[0][1,1]*par.e_trans[0,1]*v_vec[501]+\n",
    "                         lis[0][1,0]*par.e_trans[0,2]*v_vec[1000]+lis[0][1,1]*par.e_trans[0,2]*v_vec[1001]+\n",
    "                         lis[0][1,0]*par.e_trans[0,3]*v_vec[1500]+lis[0][1,1]*par.e_trans[0,3]*v_vec[1501]+\n",
    "                         lis[0][1,0]*par.e_trans[0,4]*v_vec[2000]+lis[0][1,1]*par.e_trans[0,4]*v_vec[2001])"
   ]
  }
 ],
 "metadata": {
  "kernelspec": {
   "display_name": "Python 3",
   "language": "python",
   "name": "python3"
  },
  "language_info": {
   "codemirror_mode": {
    "name": "ipython",
    "version": 3
   },
   "file_extension": ".py",
   "mimetype": "text/x-python",
   "name": "python",
   "nbconvert_exporter": "python",
   "pygments_lexer": "ipython3",
   "version": "3.8.5"
  }
 },
 "nbformat": 4,
 "nbformat_minor": 4
}
